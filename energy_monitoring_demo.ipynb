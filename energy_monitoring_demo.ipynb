{
 "cells": [
  {
   "cell_type": "code",
   "execution_count": 3,
   "id": "1eb15f8f-c455-4df0-a804-39ce501c5359",
   "metadata": {},
   "outputs": [
    {
     "name": "stdout",
     "output_type": "stream",
     "text": [
      "Collecting boto3\n",
      "  Downloading boto3-1.37.14-py3-none-any.whl.metadata (6.7 kB)\n",
      "Collecting botocore<1.38.0,>=1.37.14 (from boto3)\n",
      "  Downloading botocore-1.37.14-py3-none-any.whl.metadata (5.7 kB)\n",
      "Requirement already satisfied: jmespath<2.0.0,>=0.7.1 in c:\\users\\user\\appdata\\local\\anaconda3\\lib\\site-packages (from boto3) (1.0.1)\n",
      "Collecting s3transfer<0.12.0,>=0.11.0 (from boto3)\n",
      "  Downloading s3transfer-0.11.4-py3-none-any.whl.metadata (1.7 kB)\n",
      "Requirement already satisfied: python-dateutil<3.0.0,>=2.1 in c:\\users\\user\\appdata\\local\\anaconda3\\lib\\site-packages (from botocore<1.38.0,>=1.37.14->boto3) (2.9.0.post0)\n",
      "Requirement already satisfied: urllib3!=2.2.0,<3,>=1.25.4 in c:\\users\\user\\appdata\\local\\anaconda3\\lib\\site-packages (from botocore<1.38.0,>=1.37.14->boto3) (2.2.2)\n",
      "Requirement already satisfied: six>=1.5 in c:\\users\\user\\appdata\\local\\anaconda3\\lib\\site-packages (from python-dateutil<3.0.0,>=2.1->botocore<1.38.0,>=1.37.14->boto3) (1.16.0)\n",
      "Downloading boto3-1.37.14-py3-none-any.whl (139 kB)\n",
      "   ---------------------------------------- 0.0/139.6 kB ? eta -:--:--\n",
      "   -------- ------------------------------- 30.7/139.6 kB ? eta -:--:--\n",
      "   -------- ------------------------------- 30.7/139.6 kB ? eta -:--:--\n",
      "   ----------------- --------------------- 61.4/139.6 kB 328.2 kB/s eta 0:00:01\n",
      "   ------------------------------ ------- 112.6/139.6 kB 504.4 kB/s eta 0:00:01\n",
      "   ------------------------------ ------- 112.6/139.6 kB 504.4 kB/s eta 0:00:01\n",
      "   ------------------------------------ - 133.1/139.6 kB 437.3 kB/s eta 0:00:01\n",
      "   -------------------------------------- 139.6/139.6 kB 394.2 kB/s eta 0:00:00\n",
      "Downloading botocore-1.37.14-py3-none-any.whl (13.4 MB)\n",
      "   ---------------------------------------- 0.0/13.4 MB ? eta -:--:--\n",
      "    --------------------------------------- 0.2/13.4 MB 3.5 MB/s eta 0:00:04\n",
      "    --------------------------------------- 0.2/13.4 MB 3.5 MB/s eta 0:00:04\n",
      "    --------------------------------------- 0.3/13.4 MB 1.9 MB/s eta 0:00:07\n",
      "   - -------------------------------------- 0.4/13.4 MB 2.1 MB/s eta 0:00:07\n",
      "   - -------------------------------------- 0.5/13.4 MB 1.7 MB/s eta 0:00:08\n",
      "   - -------------------------------------- 0.7/13.4 MB 2.0 MB/s eta 0:00:07\n",
      "   -- ------------------------------------- 0.8/13.4 MB 2.2 MB/s eta 0:00:06\n",
      "   -- ------------------------------------- 1.0/13.4 MB 2.3 MB/s eta 0:00:06\n",
      "   --- ------------------------------------ 1.0/13.4 MB 2.2 MB/s eta 0:00:06\n",
      "   --- ------------------------------------ 1.2/13.4 MB 2.4 MB/s eta 0:00:06\n",
      "   ---- ----------------------------------- 1.5/13.4 MB 2.6 MB/s eta 0:00:05\n",
      "   ----- ---------------------------------- 1.7/13.4 MB 2.7 MB/s eta 0:00:05\n",
      "   ----- ---------------------------------- 1.8/13.4 MB 2.6 MB/s eta 0:00:05\n",
      "   ----- ---------------------------------- 2.0/13.4 MB 2.8 MB/s eta 0:00:05\n",
      "   ------ --------------------------------- 2.0/13.4 MB 2.8 MB/s eta 0:00:05\n",
      "   ------ --------------------------------- 2.3/13.4 MB 3.0 MB/s eta 0:00:04\n",
      "   ------- -------------------------------- 2.5/13.4 MB 3.0 MB/s eta 0:00:04\n",
      "   -------- ------------------------------- 2.7/13.4 MB 3.1 MB/s eta 0:00:04\n",
      "   -------- ------------------------------- 2.9/13.4 MB 3.1 MB/s eta 0:00:04\n",
      "   -------- ------------------------------- 3.0/13.4 MB 3.1 MB/s eta 0:00:04\n",
      "   --------- ------------------------------ 3.1/13.4 MB 3.1 MB/s eta 0:00:04\n",
      "   --------- ------------------------------ 3.3/13.4 MB 3.1 MB/s eta 0:00:04\n",
      "   ---------- ----------------------------- 3.4/13.4 MB 3.1 MB/s eta 0:00:04\n",
      "   ---------- ----------------------------- 3.5/13.4 MB 3.1 MB/s eta 0:00:04\n",
      "   ----------- ---------------------------- 3.7/13.4 MB 3.1 MB/s eta 0:00:04\n",
      "   ----------- ---------------------------- 3.8/13.4 MB 3.1 MB/s eta 0:00:04\n",
      "   ----------- ---------------------------- 3.9/13.4 MB 3.0 MB/s eta 0:00:04\n",
      "   ------------ --------------------------- 4.0/13.4 MB 3.1 MB/s eta 0:00:04\n",
      "   ------------ --------------------------- 4.2/13.4 MB 3.1 MB/s eta 0:00:03\n",
      "   ------------ --------------------------- 4.3/13.4 MB 3.1 MB/s eta 0:00:03\n",
      "   ------------- -------------------------- 4.4/13.4 MB 3.1 MB/s eta 0:00:03\n",
      "   ------------- -------------------------- 4.6/13.4 MB 3.1 MB/s eta 0:00:03\n",
      "   -------------- ------------------------- 4.8/13.4 MB 3.0 MB/s eta 0:00:03\n",
      "   -------------- ------------------------- 4.9/13.4 MB 3.1 MB/s eta 0:00:03\n",
      "   -------------- ------------------------- 5.0/13.4 MB 3.1 MB/s eta 0:00:03\n",
      "   --------------- ------------------------ 5.1/13.4 MB 3.1 MB/s eta 0:00:03\n",
      "   --------------- ------------------------ 5.2/13.4 MB 3.1 MB/s eta 0:00:03\n",
      "   ---------------- ----------------------- 5.4/13.4 MB 3.1 MB/s eta 0:00:03\n",
      "   ---------------- ----------------------- 5.5/13.4 MB 3.1 MB/s eta 0:00:03\n",
      "   ----------------- ---------------------- 5.7/13.4 MB 3.1 MB/s eta 0:00:03\n",
      "   ----------------- ---------------------- 5.8/13.4 MB 3.1 MB/s eta 0:00:03\n",
      "   ----------------- ---------------------- 5.9/13.4 MB 3.1 MB/s eta 0:00:03\n",
      "   ------------------ --------------------- 6.1/13.4 MB 3.1 MB/s eta 0:00:03\n",
      "   ------------------ --------------------- 6.2/13.4 MB 3.1 MB/s eta 0:00:03\n",
      "   ------------------ --------------------- 6.3/13.4 MB 3.1 MB/s eta 0:00:03\n",
      "   ------------------ --------------------- 6.3/13.4 MB 3.1 MB/s eta 0:00:03\n",
      "   ------------------ --------------------- 6.3/13.4 MB 3.1 MB/s eta 0:00:03\n",
      "   ------------------ --------------------- 6.3/13.4 MB 3.1 MB/s eta 0:00:03\n",
      "   ------------------ --------------------- 6.3/13.4 MB 3.1 MB/s eta 0:00:03\n",
      "   ------------------ --------------------- 6.3/13.4 MB 3.1 MB/s eta 0:00:03\n",
      "   ------------------ --------------------- 6.3/13.4 MB 3.1 MB/s eta 0:00:03\n",
      "   ------------------ --------------------- 6.3/13.4 MB 3.1 MB/s eta 0:00:03\n",
      "   ------------------ --------------------- 6.3/13.4 MB 3.1 MB/s eta 0:00:03\n",
      "   ------------------ --------------------- 6.3/13.4 MB 3.1 MB/s eta 0:00:03\n",
      "   ------------------ --------------------- 6.3/13.4 MB 3.1 MB/s eta 0:00:03\n",
      "   ------------------ --------------------- 6.3/13.4 MB 3.1 MB/s eta 0:00:03\n",
      "   ------------------ --------------------- 6.3/13.4 MB 3.1 MB/s eta 0:00:03\n",
      "   ------------------ --------------------- 6.3/13.4 MB 3.1 MB/s eta 0:00:03\n",
      "   ------------------ --------------------- 6.3/13.4 MB 3.1 MB/s eta 0:00:03\n",
      "   ------------------ --------------------- 6.3/13.4 MB 3.1 MB/s eta 0:00:03\n",
      "   ------------------------ --------------- 8.3/13.4 MB 2.9 MB/s eta 0:00:02\n",
      "   ------------------------- -------------- 8.4/13.4 MB 3.0 MB/s eta 0:00:02\n",
      "   ------------------------- -------------- 8.4/13.4 MB 3.0 MB/s eta 0:00:02\n",
      "   ------------------------- -------------- 8.4/13.4 MB 3.0 MB/s eta 0:00:02\n",
      "   ------------------------- -------------- 8.4/13.4 MB 3.0 MB/s eta 0:00:02\n",
      "   ------------------------- -------------- 8.6/13.4 MB 2.8 MB/s eta 0:00:02\n",
      "   ------------------------- -------------- 8.7/13.4 MB 2.8 MB/s eta 0:00:02\n",
      "   -------------------------- ------------- 8.8/13.4 MB 2.8 MB/s eta 0:00:02\n",
      "   -------------------------- ------------- 8.9/13.4 MB 2.8 MB/s eta 0:00:02\n",
      "   -------------------------- ------------- 9.0/13.4 MB 2.8 MB/s eta 0:00:02\n",
      "   --------------------------- ------------ 9.2/13.4 MB 2.8 MB/s eta 0:00:02\n",
      "   --------------------------- ------------ 9.3/13.4 MB 2.8 MB/s eta 0:00:02\n",
      "   ---------------------------- ----------- 9.4/13.4 MB 2.8 MB/s eta 0:00:02\n",
      "   ---------------------------- ----------- 9.5/13.4 MB 2.8 MB/s eta 0:00:02\n",
      "   ---------------------------- ----------- 9.7/13.4 MB 2.8 MB/s eta 0:00:02\n",
      "   ----------------------------- ---------- 9.8/13.4 MB 2.8 MB/s eta 0:00:02\n",
      "   ----------------------------- ---------- 9.9/13.4 MB 2.8 MB/s eta 0:00:02\n",
      "   ----------------------------- ---------- 10.0/13.4 MB 2.8 MB/s eta 0:00:02\n",
      "   ------------------------------ --------- 10.1/13.4 MB 2.8 MB/s eta 0:00:02\n",
      "   ------------------------------ --------- 10.1/13.4 MB 2.8 MB/s eta 0:00:02\n",
      "   ------------------------------ --------- 10.2/13.4 MB 2.7 MB/s eta 0:00:02\n",
      "   ------------------------------ --------- 10.3/13.4 MB 2.7 MB/s eta 0:00:02\n",
      "   ------------------------------ --------- 10.4/13.4 MB 2.7 MB/s eta 0:00:02\n",
      "   ------------------------------- -------- 10.5/13.4 MB 2.7 MB/s eta 0:00:02\n",
      "   ------------------------------- -------- 10.5/13.4 MB 2.7 MB/s eta 0:00:02\n",
      "   ------------------------------- -------- 10.5/13.4 MB 2.7 MB/s eta 0:00:02\n",
      "   ------------------------------- -------- 10.5/13.4 MB 2.7 MB/s eta 0:00:02\n",
      "   ------------------------------- -------- 10.5/13.4 MB 2.7 MB/s eta 0:00:02\n",
      "   ------------------------------- -------- 10.5/13.4 MB 2.7 MB/s eta 0:00:02\n",
      "   ------------------------------- -------- 10.5/13.4 MB 2.7 MB/s eta 0:00:02\n",
      "   ------------------------------- -------- 10.5/13.4 MB 2.7 MB/s eta 0:00:02\n",
      "   ------------------------------- -------- 10.5/13.4 MB 2.7 MB/s eta 0:00:02\n",
      "   ------------------------------- -------- 10.5/13.4 MB 2.7 MB/s eta 0:00:02\n",
      "   ------------------------------- -------- 10.5/13.4 MB 2.7 MB/s eta 0:00:02\n",
      "   ------------------------------- -------- 10.5/13.4 MB 2.7 MB/s eta 0:00:02\n",
      "   ------------------------------- -------- 10.5/13.4 MB 2.7 MB/s eta 0:00:02\n",
      "   ------------------------------- -------- 10.5/13.4 MB 2.7 MB/s eta 0:00:02\n",
      "   ------------------------------- -------- 10.5/13.4 MB 2.7 MB/s eta 0:00:02\n",
      "   ------------------------------- -------- 10.5/13.4 MB 2.7 MB/s eta 0:00:02\n",
      "   -------------------------------- ------- 10.8/13.4 MB 2.4 MB/s eta 0:00:02\n",
      "   ------------------------------------ --- 12.3/13.4 MB 2.6 MB/s eta 0:00:01\n",
      "   ------------------------------------- -- 12.5/13.4 MB 2.6 MB/s eta 0:00:01\n",
      "   ------------------------------------- -- 12.6/13.4 MB 2.6 MB/s eta 0:00:01\n",
      "   -------------------------------------- - 12.7/13.4 MB 2.6 MB/s eta 0:00:01\n",
      "   -------------------------------------- - 12.8/13.4 MB 2.6 MB/s eta 0:00:01\n",
      "   -------------------------------------- - 13.0/13.4 MB 2.6 MB/s eta 0:00:01\n",
      "   ---------------------------------------  13.1/13.4 MB 2.5 MB/s eta 0:00:01\n",
      "   ---------------------------------------  13.3/13.4 MB 2.5 MB/s eta 0:00:01\n",
      "   ---------------------------------------  13.4/13.4 MB 2.5 MB/s eta 0:00:01\n",
      "   ---------------------------------------  13.4/13.4 MB 2.5 MB/s eta 0:00:01\n",
      "   ---------------------------------------- 13.4/13.4 MB 2.5 MB/s eta 0:00:00\n",
      "Downloading s3transfer-0.11.4-py3-none-any.whl (84 kB)\n",
      "   ---------------------------------------- 0.0/84.4 kB ? eta -:--:--\n",
      "   ---------------------------------------- 84.4/84.4 kB 1.6 MB/s eta 0:00:00\n",
      "Installing collected packages: botocore, s3transfer, boto3\n",
      "  Attempting uninstall: botocore\n",
      "    Found existing installation: botocore 1.34.69\n",
      "    Uninstalling botocore-1.34.69:\n",
      "      Successfully uninstalled botocore-1.34.69\n",
      "Successfully installed boto3-1.37.14 botocore-1.37.14 s3transfer-0.11.4\n"
     ]
    },
    {
     "name": "stderr",
     "output_type": "stream",
     "text": [
      "ERROR: pip's dependency resolver does not currently take into account all the packages that are installed. This behaviour is the source of the following dependency conflicts.\n",
      "aiobotocore 2.12.3 requires botocore<1.34.70,>=1.34.41, but you have botocore 1.37.14 which is incompatible.\n"
     ]
    }
   ],
   "source": [
    "!pip install boto3"
   ]
  },
  {
   "cell_type": "code",
   "execution_count": 8,
   "id": "5a7ee973-a319-477b-811f-745eae558c07",
   "metadata": {},
   "outputs": [
    {
     "name": "stdout",
     "output_type": "stream",
     "text": [
      "All clients initialized successfully.\n"
     ]
    }
   ],
   "source": [
    "import boto3\n",
    "import json\n",
    "import time\n",
    "import zipfile\n",
    "import os\n",
    "\n",
    "# Configuration\n",
    "region = 'us-east-1'\n",
    "bucket_name = f'energy-monitoring-data-{int(time.time())}'  # Unique bucket name\n",
    "\n",
    "# AWS clients with explicit region\n",
    "iot = boto3.client('iot', region_name=region)\n",
    "lambda_client = boto3.client('lambda', region_name=region)\n",
    "firehose = boto3.client('firehose', region_name=region)\n",
    "s3 = boto3.client('s3', region_name=region)\n",
    "glue = boto3.client('glue', region_name=region)\n",
    "iam = boto3.client('iam', region_name=region)\n",
    "kms = boto3.client('kms', region_name=region)\n",
    "\n",
    "print(\"All clients initialized successfully.\")"
   ]
  },
  {
   "cell_type": "code",
   "execution_count": 11,
   "id": "0911178c-9640-4b2a-88a0-2a5a5d23a120",
   "metadata": {},
   "outputs": [
    {
     "name": "stdout",
     "output_type": "stream",
     "text": [
      "Error creating KMS key: Unable to locate credentials\n"
     ]
    }
   ],
   "source": [
    "try:\n",
    "    # Create KMS key\n",
    "    kms_response = kms.create_key(\n",
    "        Description='KMS key for energy monitoring',\n",
    "        KeyUsage='ENCRYPT_DECRYPT',\n",
    "        MultiRegion=False\n",
    "    )\n",
    "    kms_key_id = kms_response['KeyMetadata']['KeyId']\n",
    "    kms_key_arn = kms_response['KeyMetadata']['Arn']\n",
    "    print(f\"KMS Key created: {kms_key_arn}\")\n",
    "except Exception as e:\n",
    "    print(f\"Error creating KMS key: {str(e)}\")"
   ]
  },
  {
   "cell_type": "code",
   "execution_count": 13,
   "id": "ed5c081e-ecf3-4103-b757-a39ca9dfb2a7",
   "metadata": {},
   "outputs": [
    {
     "name": "stdout",
     "output_type": "stream",
     "text": [
      "Error creating S3 bucket: Unable to locate credentials\n"
     ]
    }
   ],
   "source": [
    "try:\n",
    "    # Create S3 bucket\n",
    "    s3.create_bucket(Bucket=bucket_name)\n",
    "    \n",
    "    # Enable server-side encryption with KMS\n",
    "    s3.put_bucket_encryption(\n",
    "        Bucket=bucket_name,\n",
    "        ServerSideEncryptionConfiguration={\n",
    "            'Rules': [{\n",
    "                'ApplyServerSideEncryptionByDefault': {\n",
    "                    'SSEAlgorithm': 'aws:kms',\n",
    "                    'KMSMasterKeyID': kms_key_id\n",
    "                }\n",
    "            }]\n",
    "        }\n",
    "    )\n",
    "    print(f\"S3 Bucket created and encrypted: {bucket_name}\")\n",
    "except Exception as e:\n",
    "    print(f\"Error creating S3 bucket: {str(e)}\")"
   ]
  },
  {
   "cell_type": "code",
   "execution_count": null,
   "id": "5ea26c9e-8250-4044-8b89-26a86bf8bc62",
   "metadata": {},
   "outputs": [
    {
     "name": "stdout",
     "output_type": "stream",
     "text": [
      "Error creating IAM roles: Unable to locate credentials\n"
     ]
    }
   ],
   "source": [
    "try:\n",
    "    # Lambda execution role\n",
    "    assume_role_policy = {\n",
    "        \"Version\": \"2012-10-17\",\n",
    "        \"Statement\": [{\"Effect\": \"Allow\", \"Principal\": {\"Service\": \"lambda.amazonaws.com\"}, \"Action\": \"sts:AssumeRole\"}]\n",
    "    }\n",
    "    lambda_role = iam.create_role(\n",
    "        RoleName='LambdaEnergyMonitorRole',\n",
    "        AssumeRolePolicyDocument=json.dumps(assume_role_policy)\n",
    "    )\n",
    "    iam.attach_role_policy(\n",
    "        RoleName=lambda_role['Role']['RoleName'],\n",
    "        PolicyArn='arn:aws:iam::aws:policy/service-role/AWSLambdaBasicExecutionRole'\n",
    "    )\n",
    "    iam.put_role_policy(\n",
    "        RoleName=lambda_role['Role']['RoleName'],\n",
    "        PolicyName='FirehoseAccess',\n",
    "        PolicyDocument=json.dumps({\n",
    "            \"Version\": \"2012-10-17\",\n",
    "            \"Statement\": [{\"Effect\": \"Allow\", \"Action\": [\"firehose:PutRecord\"], \"Resource\": \"*\"}]\n",
    "        })\n",
    "    )\n",
    "    \n",
    "    # Kinesis Firehose role\n",
    "    firehose_role = iam.create_role(\n",
    "        RoleName='FirehoseEnergyRole',\n",
    "        AssumeRolePolicyDocument=json.dumps({\n",
    "            \"Version\": \"2012-10-17\",\n",
    "            \"Statement\": [{\"Effect\": \"Allow\", \"Principal\": {\"Service\": \"firehose.amazonaws.com\"}, \"Action\": \"sts:AssumeRole\"}]\n",
    "        })\n",
    "    )\n",
    "    iam.put_role_policy(\n",
    "        RoleName=firehose_role['Role']['RoleName'],\n",
    "        PolicyName='S3KMSAccess',\n",
    "        PolicyDocument=json.dumps({\n",
    "            \"Version\": \"2012-10-17\",\n",
    "            \"Statement\": [\n",
    "                {\"Effect\": \"Allow\", \"Action\": [\"s3:PutObject\", \"s3:PutObjectAcl\"], \"Resource\": f\"arn:aws:s3:::{bucket_name}/*\"},\n",
    "                {\"Effect\": \"Allow\", \"Action\": [\"kms:Decrypt\"], \"Resource\": kms_key_arn}\n",
    "            ]\n",
    "        })\n",
    "    )\n",
    "    \n",
    "    # Glue role\n",
    "    glue_role = iam.create_role(\n",
    "        RoleName='GlueEnergyRole',\n",
    "        AssumeRolePolicyDocument=json.dumps({\n",
    "            \"Version\": \"2012-10-17\",\n",
    "            \"Statement\": [{\"Effect\": \"Allow\", \"Principal\": {\"Service\": \"glue.amazonaws.com\"}, \"Action\": \"sts:AssumeRole\"}]\n",
    "        })\n",
    "    )\n",
    "    iam.attach_role_policy(\n",
    "        RoleName=glue_role['Role']['RoleName'],\n",
    "        PolicyArn='arn:aws:iam::aws:policy/service-role/AWSGlueServiceRole'\n",
    "    )\n",
    "    iam.put_role_policy(\n",
    "        RoleName=glue_role['Role']['RoleName'],\n",
    "        PolicyName='S3Access',\n",
    "        PolicyDocument=json.dumps({\n",
    "            \"Version\": \"2012-10-17\",\n",
    "            \"Statement\": [{\"Effect\": \"Allow\", \"Action\": [\"s3:GetObject\", \"s3:ListBucket\"], \"Resource\": [f\"arn:aws:s3:::{bucket_name}\", f\"arn:aws:s3:::{bucket_name}/*\"]}]\n",
    "        })\n",
    "    )\n",
    "    \n",
    "    print(\"IAM roles created successfully.\")\n",
    "except Exception as e:\n",
    "    print(f\"Error creating IAM roles: {str(e)}\")"
   ]
  },
  {
   "cell_type": "code",
   "execution_count": 17,
   "id": "50610833-e187-4323-ba62-9009888c473a",
   "metadata": {},
   "outputs": [
    {
     "name": "stdout",
     "output_type": "stream",
     "text": [
      "Error creating Lambda function: name 'lambda_role' is not defined\n"
     ]
    }
   ],
   "source": [
    "try:\n",
    "    # Write Lambda code to a file\n",
    "    lambda_code = '''\n",
    "import json\n",
    "import boto3\n",
    "\n",
    "firehose = boto3.client('firehose', region_name='us-east-1')\n",
    "\n",
    "def lambda_handler(event, context):\n",
    "    energy_data = {\n",
    "        \"timestamp\": event.get(\"timestamp\"),\n",
    "        \"kwh\": event.get(\"kwh\")\n",
    "    }\n",
    "    firehose.put_record(\n",
    "        DeliveryStreamName='energy-firehose-stream',\n",
    "        Record={'Data': json.dumps(energy_data).encode('utf-8')}\n",
    "    )\n",
    "    return {\"status\": \"success\"}\n",
    "'''\n",
    "    with open('lambda_function.py', 'w') as f:\n",
    "        f.write(lambda_code)\n",
    "\n",
    "    # Zip the Lambda code\n",
    "    with zipfile.ZipFile('lambda_function.zip', 'w') as z:\n",
    "        z.write('lambda_function.py')\n",
    "\n",
    "    # Create Lambda function (wait briefly for IAM role to propagate)\n",
    "    time.sleep(10)  # Avoid IAM role propagation delay\n",
    "    lambda_response = lambda_client.create_function(\n",
    "        FunctionName='energyProcessor',\n",
    "        Runtime='python3.9',\n",
    "        Role=lambda_role['Role']['Arn'],\n",
    "        Handler='lambda_function.lambda_handler',\n",
    "        Code={'ZipFile': open('lambda_function.zip', 'rb').read()},\n",
    "        Timeout=10\n",
    "    )\n",
    "    print(f\"Lambda created: {lambda_response['FunctionArn']}\")\n",
    "\n",
    "    # Clean up local files\n",
    "    os.remove('lambda_function.py')\n",
    "    os.remove('lambda_function.zip')\n",
    "except Exception as e:\n",
    "    print(f\"Error creating Lambda function: {str(e)}\")"
   ]
  },
  {
   "cell_type": "code",
   "execution_count": 19,
   "id": "22e4c3f9-0f5e-4f67-ba5f-11ceebdc72a6",
   "metadata": {},
   "outputs": [
    {
     "name": "stdout",
     "output_type": "stream",
     "text": [
      "Error creating IoT rule: name 'lambda_response' is not defined\n"
     ]
    }
   ],
   "source": [
    "try:\n",
    "    # Create IoT topic rule to trigger Lambda\n",
    "    iot.create_topic_rule(\n",
    "        ruleName='energy_to_lambda',\n",
    "        topicRulePayload={\n",
    "            \"sql\": \"SELECT * FROM 'energy/monitor'\",\n",
    "            \"actions\": [{\"lambda\": {\"functionArn\": lambda_response['FunctionArn']}}],\n",
    "            \"ruleDisabled\": False\n",
    "        }\n",
    "    )\n",
    "    print(\"IoT Rule created successfully.\")\n",
    "except Exception as e:\n",
    "    print(f\"Error creating IoT rule: {str(e)}\")"
   ]
  },
  {
   "cell_type": "code",
   "execution_count": 21,
   "id": "e1f879d8-77a5-4e3a-ad09-8a896f706682",
   "metadata": {},
   "outputs": [
    {
     "name": "stdout",
     "output_type": "stream",
     "text": [
      "Error creating Firehose stream: name 'firehose_role' is not defined\n"
     ]
    }
   ],
   "source": [
    "try:\n",
    "    # Create Firehose delivery stream\n",
    "    firehose.create_delivery_stream(\n",
    "        DeliveryStreamName='energy-firehose-stream',\n",
    "        S3DestinationConfiguration={\n",
    "            'RoleARN': firehose_role['Role']['Arn'],\n",
    "            'BucketARN': f'arn:aws:s3:::{bucket_name}',\n",
    "            'BufferingHints': {'SizeInMBs': 5, 'IntervalInSeconds': 60},  # Batching\n",
    "            'EncryptionConfiguration': {'KMSEncryptionConfig': {'AWSKMSKeyARN': kms_key_arn}}\n",
    "        }\n",
    "    )\n",
    "    # Wait for Firehose to become active\n",
    "    time.sleep(20)\n",
    "    print(\"Kinesis Firehose created successfully.\")\n",
    "except Exception as e:\n",
    "    print(f\"Error creating Firehose stream: {str(e)}\")"
   ]
  },
  {
   "cell_type": "code",
   "execution_count": 23,
   "id": "3a76cf61-e7e5-4b5d-8ffd-28cb124defb8",
   "metadata": {},
   "outputs": [
    {
     "name": "stdout",
     "output_type": "stream",
     "text": [
      "Error testing Lambda: Unable to locate credentials\n"
     ]
    }
   ],
   "source": [
    "try:\n",
    "    # Simulate IoT data and invoke Lambda\n",
    "    test_event = {\"timestamp\": \"2025-03-18T10:00:00Z\", \"kwh\": 1.5}\n",
    "    response = lambda_client.invoke(\n",
    "        FunctionName='energyProcessor',\n",
    "        InvocationType='RequestResponse',\n",
    "        Payload=json.dumps(test_event)\n",
    "    )\n",
    "    print(\"Lambda Response:\", json.loads(response['Payload'].read()))\n",
    "except Exception as e:\n",
    "    print(f\"Error testing Lambda: {str(e)}\")"
   ]
  },
  {
   "cell_type": "code",
   "execution_count": null,
   "id": "486125f5-bb3d-4a15-87a2-1535f042cd23",
   "metadata": {},
   "outputs": [],
   "source": []
  }
 ],
 "metadata": {
  "kernelspec": {
   "display_name": "Python 3 (ipykernel)",
   "language": "python",
   "name": "python3"
  },
  "language_info": {
   "codemirror_mode": {
    "name": "ipython",
    "version": 3
   },
   "file_extension": ".py",
   "mimetype": "text/x-python",
   "name": "python",
   "nbconvert_exporter": "python",
   "pygments_lexer": "ipython3",
   "version": "3.12.4"
  }
 },
 "nbformat": 4,
 "nbformat_minor": 5
}
